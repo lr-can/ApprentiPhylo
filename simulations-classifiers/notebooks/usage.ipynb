{
 "cells": [
  {
   "cell_type": "markdown",
   "metadata": {},
   "source": [
    "# Example usage\n",
    "\n",
    "This notebook aims to provide sample usage of the `classifiers` python package.\n",
    "\n",
    "First thing is to import the needed objects and modules for these examples.\n"
   ]
  },
  {
   "cell_type": "code",
   "execution_count": 4,
   "metadata": {},
   "outputs": [
    {
     "name": "stdout",
     "output_type": "stream",
     "text": [
      "The autoreload extension is already loaded. To reload it, use:\n",
      "  %reload_ext autoreload\n"
     ]
    }
   ],
   "source": [
    "%load_ext autoreload\n",
    "%autoreload 2\n",
    "\n",
    "import tempfile\n",
    "\n",
    "import torch\n",
    "\n",
    "from classifiers import (\n",
    "    AA_TOKENIZER,\n",
    "    AACnnClassifier,\n",
    "    AttentionClassifier,\n",
    "    Data,\n",
    "    DenseMsaClassifier,\n",
    "    DenseSiteClassifier,\n",
    "    FastaSource,\n",
    "    LogisticRegressionClassifier,\n",
    "    Pipeline,\n",
    ")\n"
   ]
  },
  {
   "cell_type": "markdown",
   "metadata": {},
   "source": [
    "We then determine if the code will run on GPU or CPU.\n"
   ]
  },
  {
   "cell_type": "code",
   "execution_count": 5,
   "metadata": {},
   "outputs": [],
   "source": [
    "DEVICE = \"cuda\" if torch.cuda.is_available() else \"cpu\""
   ]
  },
  {
   "cell_type": "markdown",
   "metadata": {},
   "source": [
    "## Single classifier\n",
    "\n",
    "A first way to use the package is to run a single classifier from Python code in a script or notebook.\n",
    "\n",
    "To do that, the first step is to define the sources of both empirical and simulated data. The `FastaSource` class allows to creata a data source from a folder of Fasta files.\n"
   ]
  },
  {
   "cell_type": "code",
   "execution_count": 7,
   "metadata": {},
   "outputs": [],
   "source": [
    "real_source = FastaSource(\"../data/sample_lg_s256_gc/empirical/\")\n",
    "simulated_source = FastaSource(\"../data/sample_lg_s256_gc/simulated/\")"
   ]
  },
  {
   "cell_type": "markdown",
   "metadata": {},
   "source": [
    "We then define a `Data` object which will contain the base data used by all the classifiers. This is done by passing to the `Data` constructor our two data sources, and the tokenizer to be used (here it is `AA_TOKENIZER` as our dataset contains amino acids sequences).\n",
    "\n",
    "The `Data` constructor runs common data preprocessing steps:\n",
    "\n",
    "-   string sequences are tokenized into sequences of integers\n",
    "-   sequences with ambiguous tokens are removed from alignments\n",
    "-   labels are created for both datasets: alignments from the empirical dataset get the label 0, whereas simulated alignments get the label 1\n"
   ]
  },
  {
   "cell_type": "code",
   "execution_count": 8,
   "metadata": {},
   "outputs": [
    {
     "name": "stdout",
     "output_type": "stream",
     "text": [
      "2024-10-07 09:47:12   Tokenizing real alignments...\n",
      "2024-10-07 09:47:13   Removing sequences with ambiguous tokens...\n",
      "2024-10-07 09:47:13   127/8988 sequences have been removed from 84/488 alignements due to ambiguous sites.\n",
      "2024-10-07 09:47:13   Tokenizing simulated alignments...\n",
      "2024-10-07 09:47:15   Removing sequences with ambiguous tokens...\n",
      "2024-10-07 09:47:15   0/8713 sequences have been removed from 0/485 alignements due to ambiguous sites.\n",
      "2024-10-07 09:47:15   Checking alignments...\n",
      "2024-10-07 09:47:15   485 renamed keys in simulated aligns.\n",
      "2024-10-07 09:47:15   Creating labels...\n",
      "2024-10-07 09:47:15   Merging aligns and labels...\n",
      "2024-10-07 09:47:15   Total number of alignments: 973\n"
     ]
    }
   ],
   "source": [
    "data = Data(source_real=real_source, source_simulated=simulated_source, tokenizer=AA_TOKENIZER)"
   ]
  },
  {
   "cell_type": "markdown",
   "metadata": {},
   "source": [
    "### Logistic regression\n"
   ]
  },
  {
   "cell_type": "markdown",
   "metadata": {},
   "source": [
    "To run a logistic regression classifier, you must create a `LogisticRegressionClassifier` instance by passing it the base data object, the output path for the results, and some other arguments such as `scale_features`.\n",
    "\n",
    "The logistic regression classifier works on MSA composition data (overall proportion of amino acids for each alignment).\n"
   ]
  },
  {
   "cell_type": "code",
   "execution_count": 9,
   "metadata": {},
   "outputs": [
    {
     "name": "stdout",
     "output_type": "stream",
     "text": [
      "2024-10-07 09:48:08   --- Preprocessing data ---\n"
     ]
    }
   ],
   "source": [
    "classif = LogisticRegressionClassifier(\n",
    "    data=data,\n",
    "    cv=5,\n",
    "    shuffle_data=False,\n",
    "    scale_features=True,\n",
    "    out_path=tempfile.TemporaryDirectory().name,\n",
    ")"
   ]
  },
  {
   "cell_type": "markdown",
   "metadata": {},
   "source": [
    "Once the classifier instance has been created, its `train()` method can be used to run the classifier. The results of the training is displayed in the standard output and saved in the `out_path` folder.\n"
   ]
  },
  {
   "cell_type": "code",
   "execution_count": 10,
   "metadata": {},
   "outputs": [
    {
     "name": "stdout",
     "output_type": "stream",
     "text": [
      "2024-10-07 09:48:10   --- Start training ---\n",
      "2024-10-07 09:48:10   Number of cross validation folds: 5\n",
      "2024-10-07 09:48:10   Shuffle data: False\n",
      "2024-10-07 09:48:10   Scale features: True\n",
      "2024-10-07 09:48:10   --- Training ended ---\n",
      "2024-10-07 09:48:10   Training time: 0:00:00\n",
      "2024-10-07 09:48:10   Fold F1 scores: ('0.9596', '0.9949', '0.9789', '0.9898', '0.9898')\n"
     ]
    }
   ],
   "source": [
    "clf = classif.train()"
   ]
  },
  {
   "cell_type": "markdown",
   "metadata": {},
   "source": [
    "### Dense network on MSA composition\n",
    "\n",
    "This classifier is composed of a simple dense neural network which takes the MSA composition data as input.\n",
    "\n",
    "To run this classifier an instance of `DenseMsaClassifier` must be created with our base data, `out_path`, device and other optional arguments.\n"
   ]
  },
  {
   "cell_type": "code",
   "execution_count": 11,
   "metadata": {},
   "outputs": [
    {
     "name": "stderr",
     "output_type": "stream",
     "text": [
      "/home/julien/projets/simulations_realistes/classifiers/.venv/lib/python3.12/site-packages/ignite/handlers/tqdm_logger.py:127: TqdmExperimentalWarning: Using `tqdm.autonotebook.tqdm` in notebook mode. Use `tqdm.tqdm` instead to force console mode (e.g. in jupyter console)\n",
      "  from tqdm.autonotebook import tqdm\n"
     ]
    }
   ],
   "source": [
    "dense_msa_classif = DenseMsaClassifier(\n",
    "    data,\n",
    "    split_proportion=0.9,\n",
    "    batch_size=64,\n",
    "    max_epochs=5,\n",
    "    device=DEVICE,\n",
    "    out_path=tempfile.TemporaryDirectory().name,\n",
    ")"
   ]
  },
  {
   "cell_type": "markdown",
   "metadata": {},
   "source": [
    "You can then run the classifier with its `train()` method.\n"
   ]
  },
  {
   "cell_type": "code",
   "execution_count": 12,
   "metadata": {},
   "outputs": [
    {
     "name": "stdout",
     "output_type": "stream",
     "text": [
      "--- Hyperparameters ---\n",
      "model = DenseMsaNet(\n",
      "  (dense_layer1): Sequential(\n",
      "    (0): Linear(in_features=22, out_features=100, bias=True)\n",
      "    (1): ReLU()\n",
      "    (2): Dropout(p=0.2, inplace=False)\n",
      "  )\n",
      "  (dense_layer2): Linear(in_features=100, out_features=1, bias=True)\n",
      ")\n",
      "split_proportion = 0.9\n",
      "batch_pad_sequences = False\n",
      "learning_rate = 0.01\n",
      "batch_size = 64\n",
      "max_epochs = 5\n",
      "early_stopping_patience = 5\n",
      "--- Creating loaders ---\n",
      "--- Training start ---\n",
      "Start training using cpu device.\n",
      "Epoch   Train loss   Valid loss    F1-score        Lr   Best\n",
      "------------------------------------------------------------\n"
     ]
    },
    {
     "data": {
      "application/vnd.jupyter.widget-view+json": {
       "model_id": "24659835dfc34f90a4c0dd5bb3450a40",
       "version_major": 2,
       "version_minor": 0
      },
      "text/plain": [
       "[1/14]   7%|7          [00:00<?]"
      ]
     },
     "metadata": {},
     "output_type": "display_data"
    },
    {
     "name": "stdout",
     "output_type": "stream",
     "text": [
      "    1        0.695        0.693       0.000   0.00000      *\n"
     ]
    },
    {
     "data": {
      "application/vnd.jupyter.widget-view+json": {
       "model_id": "d6a64db1a44d4ff8aa18f90b4c3bd43d",
       "version_major": 2,
       "version_minor": 0
      },
      "text/plain": [
       "[1/14]   7%|7          [00:00<?]"
      ]
     },
     "metadata": {},
     "output_type": "display_data"
    },
    {
     "name": "stdout",
     "output_type": "stream",
     "text": [
      "    2        0.689        0.690       0.000   0.00250      *\n"
     ]
    },
    {
     "data": {
      "application/vnd.jupyter.widget-view+json": {
       "model_id": "6891ddb842f547169d416e33ed31cc1e",
       "version_major": 2,
       "version_minor": 0
      },
      "text/plain": [
       "[1/14]   7%|7          [00:00<?]"
      ]
     },
     "metadata": {},
     "output_type": "display_data"
    },
    {
     "name": "stdout",
     "output_type": "stream",
     "text": [
      "    3        0.679        0.677       0.595   0.00500      *\n"
     ]
    },
    {
     "data": {
      "application/vnd.jupyter.widget-view+json": {
       "model_id": "11f4783e2bcb4cbfa7db5858f0cbb0e2",
       "version_major": 2,
       "version_minor": 0
      },
      "text/plain": [
       "[1/14]   7%|7          [00:00<?]"
      ]
     },
     "metadata": {},
     "output_type": "display_data"
    },
    {
     "name": "stdout",
     "output_type": "stream",
     "text": [
      "    4        0.657        0.657       0.713   0.00750      *\n"
     ]
    },
    {
     "data": {
      "application/vnd.jupyter.widget-view+json": {
       "model_id": "bd29b958edf04d3a9d995ad71b019bc3",
       "version_major": 2,
       "version_minor": 0
      },
      "text/plain": [
       "[1/14]   7%|7          [00:00<?]"
      ]
     },
     "metadata": {},
     "output_type": "display_data"
    },
    {
     "name": "stdout",
     "output_type": "stream",
     "text": [
      "    5        0.607        0.603       0.622   0.01000      *\n",
      "--- Training ended ---\n",
      "Training time: 0:00:01\n",
      "Best epoch: 5\n",
      "Best valid loss: 0.603\n",
      "Best valid accuracy (macro): 0.711\n",
      "Best F1 score: 0.622\n"
     ]
    }
   ],
   "source": [
    "dense_msa_classif.train()"
   ]
  },
  {
   "cell_type": "markdown",
   "metadata": {},
   "source": [
    "### Dense network on site composition\n",
    "\n",
    "This is the same type of classifier than the previous one, except that it runs on a per-site composition dataset instead of an overall MSA composition dataset.\n",
    "\n",
    "To use the classifier you have to create an instance of `DenseSiteClassifier` with its base data, device and `out_path`.\n"
   ]
  },
  {
   "cell_type": "code",
   "execution_count": 13,
   "metadata": {},
   "outputs": [],
   "source": [
    "dense_site_classif = DenseSiteClassifier(\n",
    "    data,\n",
    "    split_proportion=0.9,\n",
    "    batch_size=64,\n",
    "    max_epochs=5,\n",
    "    device=DEVICE,\n",
    "    out_path=tempfile.TemporaryDirectory().name,\n",
    ")"
   ]
  },
  {
   "cell_type": "markdown",
   "metadata": {},
   "source": [
    "You can then use its `train()` method.\n"
   ]
  },
  {
   "cell_type": "code",
   "execution_count": 14,
   "metadata": {},
   "outputs": [
    {
     "name": "stdout",
     "output_type": "stream",
     "text": [
      "--- Hyperparameters ---\n",
      "model = DenseSiteNet(\n",
      "  (dense_layer1): Sequential(\n",
      "    (0): Linear(in_features=218834, out_features=100, bias=True)\n",
      "    (1): ReLU()\n",
      "    (2): Dropout(p=0.2, inplace=False)\n",
      "  )\n",
      "  (dense_layer2): Linear(in_features=100, out_features=1, bias=True)\n",
      ")\n",
      "split_proportion = 0.9\n",
      "batch_pad_sequences = False\n",
      "learning_rate = 0.01\n",
      "batch_size = 64\n",
      "max_epochs = 5\n",
      "early_stopping_patience = 5\n",
      "--- Creating loaders ---\n",
      "--- Training start ---\n",
      "Start training using cpu device.\n",
      "Epoch   Train loss   Valid loss    F1-score        Lr   Best\n",
      "------------------------------------------------------------\n"
     ]
    },
    {
     "data": {
      "application/vnd.jupyter.widget-view+json": {
       "model_id": "beecbd76d2674f8b9175d375f100d0af",
       "version_major": 2,
       "version_minor": 0
      },
      "text/plain": [
       "[1/14]   7%|7          [00:00<?]"
      ]
     },
     "metadata": {},
     "output_type": "display_data"
    },
    {
     "name": "stdout",
     "output_type": "stream",
     "text": [
      "    1        0.693        0.693       0.581   0.00000      *\n"
     ]
    },
    {
     "data": {
      "application/vnd.jupyter.widget-view+json": {
       "model_id": "c5ba26d497d14f6286f29d54456e619d",
       "version_major": 2,
       "version_minor": 0
      },
      "text/plain": [
       "[1/14]   7%|7          [00:00<?]"
      ]
     },
     "metadata": {},
     "output_type": "display_data"
    },
    {
     "name": "stdout",
     "output_type": "stream",
     "text": [
      "    2        0.171        0.443       0.771   0.00250      *\n"
     ]
    },
    {
     "data": {
      "application/vnd.jupyter.widget-view+json": {
       "model_id": "51a2b8b42f5548b199ba3a02a47de7a9",
       "version_major": 2,
       "version_minor": 0
      },
      "text/plain": [
       "[1/14]   7%|7          [00:00<?]"
      ]
     },
     "metadata": {},
     "output_type": "display_data"
    },
    {
     "name": "stdout",
     "output_type": "stream",
     "text": [
      "    3        0.023        0.131       0.967   0.00500      *\n"
     ]
    },
    {
     "data": {
      "application/vnd.jupyter.widget-view+json": {
       "model_id": "ba9161a0b8144911867af1314e43852e",
       "version_major": 2,
       "version_minor": 0
      },
      "text/plain": [
       "[1/14]   7%|7          [00:00<?]"
      ]
     },
     "metadata": {},
     "output_type": "display_data"
    },
    {
     "name": "stdout",
     "output_type": "stream",
     "text": [
      "    4        0.004        0.106       0.977   0.00750      *\n"
     ]
    },
    {
     "data": {
      "application/vnd.jupyter.widget-view+json": {
       "model_id": "303d25928d5a44d8a6623c2f60c22a6e",
       "version_major": 2,
       "version_minor": 0
      },
      "text/plain": [
       "[1/14]   7%|7          [00:00<?]"
      ]
     },
     "metadata": {},
     "output_type": "display_data"
    },
    {
     "name": "stdout",
     "output_type": "stream",
     "text": [
      "    5        0.010        0.188       0.926   0.01000       \n",
      "--- Training ended ---\n",
      "Training time: 0:00:17\n",
      "Best epoch: 4\n",
      "Best valid loss: 0.106\n",
      "Best valid accuracy (macro): 0.979\n",
      "Best F1 score: 0.977\n"
     ]
    }
   ],
   "source": [
    "dense_site_classif.train()"
   ]
  },
  {
   "cell_type": "markdown",
   "metadata": {},
   "source": [
    "### AA CNN on site composition\n",
    "\n",
    "This classifier uses a convolutional neural network (CNN) applied on the per-site composition data.\n",
    "\n",
    "There are two different classifiers depending on wether it is applied on DNA (`DNACnnClassifier`) or AA (`AACnnClassifier`) data. In our case we create an instance of `AACnnClassifier` with its base data, device and `out_path`.\n",
    "\n",
    "Here we also use the `max_width` argument to remove alignments with sequences with more than 250 sites.\n"
   ]
  },
  {
   "cell_type": "code",
   "execution_count": 15,
   "metadata": {},
   "outputs": [
    {
     "name": "stdout",
     "output_type": "stream",
     "text": [
      "2024-10-07 09:48:53   Limiting alignments width to 250\n",
      "2024-10-07 09:48:53   Removing 945/973 alignments.\n"
     ]
    }
   ],
   "source": [
    "cnn_classif = AACnnClassifier(\n",
    "    data,\n",
    "    split_proportion=0.9,\n",
    "    batch_size=64,\n",
    "    max_epochs=5,\n",
    "    device=DEVICE,\n",
    "    max_width=250,\n",
    "    out_path=tempfile.TemporaryDirectory().name,\n",
    ")"
   ]
  },
  {
   "cell_type": "markdown",
   "metadata": {},
   "source": [
    "We can then use the `train()` method to run the classifier.\n"
   ]
  },
  {
   "cell_type": "code",
   "execution_count": 16,
   "metadata": {},
   "outputs": [
    {
     "name": "stdout",
     "output_type": "stream",
     "text": [
      "--- Hyperparameters ---\n",
      "model = AAConvNet(\n",
      "  (conv_layer): Sequential(\n",
      "    (0): Conv1d(22, 64, kernel_size=(1,), stride=(1,))\n",
      "    (1): ReLU()\n",
      "    (2): AvgPool1d(kernel_size=(247,), stride=(247,), padding=(0,))\n",
      "    (3): Dropout(p=0.2, inplace=False)\n",
      "  )\n",
      "  (dense_layer): Linear(in_features=64, out_features=1, bias=True)\n",
      ")\n",
      "split_proportion = 0.9\n",
      "batch_pad_sequences = False\n",
      "learning_rate = 0.01\n",
      "batch_size = 64\n",
      "max_epochs = 5\n",
      "early_stopping_patience = 5\n",
      "--- Creating loaders ---\n",
      "--- Training start ---\n",
      "Start training using cpu device.\n",
      "Epoch   Train loss   Valid loss    F1-score        Lr   Best\n",
      "------------------------------------------------------------\n"
     ]
    },
    {
     "data": {
      "application/vnd.jupyter.widget-view+json": {
       "model_id": "0eab34c461084e2f89bc23bb6bca728c",
       "version_major": 2,
       "version_minor": 0
      },
      "text/plain": [
       "[1/1] 100%|########## [00:00<?]"
      ]
     },
     "metadata": {},
     "output_type": "display_data"
    },
    {
     "name": "stdout",
     "output_type": "stream",
     "text": [
      "    1        0.701        0.631       0.000   0.00000      *\n"
     ]
    },
    {
     "data": {
      "application/vnd.jupyter.widget-view+json": {
       "model_id": "4c88ac245e544068837c2154aa9ff90a",
       "version_major": 2,
       "version_minor": 0
      },
      "text/plain": [
       "[1/1] 100%|########## [00:00<?]"
      ]
     },
     "metadata": {},
     "output_type": "display_data"
    },
    {
     "name": "stdout",
     "output_type": "stream",
     "text": [
      "    2        0.700        0.637       0.000   0.00250       \n"
     ]
    },
    {
     "data": {
      "application/vnd.jupyter.widget-view+json": {
       "model_id": "5c2cd215b28f4eb5b97916a3fa252cea",
       "version_major": 2,
       "version_minor": 0
      },
      "text/plain": [
       "[1/1] 100%|########## [00:00<?]"
      ]
     },
     "metadata": {},
     "output_type": "display_data"
    },
    {
     "name": "stdout",
     "output_type": "stream",
     "text": [
      "    3        0.698        0.648       0.000   0.00500       \n"
     ]
    },
    {
     "data": {
      "application/vnd.jupyter.widget-view+json": {
       "model_id": "6d12d46bd29f4708aa688aaa0e570f21",
       "version_major": 2,
       "version_minor": 0
      },
      "text/plain": [
       "[1/1] 100%|########## [00:00<?]"
      ]
     },
     "metadata": {},
     "output_type": "display_data"
    },
    {
     "name": "stdout",
     "output_type": "stream",
     "text": [
      "    4        0.695        0.665       0.000   0.00750       \n"
     ]
    },
    {
     "data": {
      "application/vnd.jupyter.widget-view+json": {
       "model_id": "dc4994ad916348cdbeabf0317ce6c17c",
       "version_major": 2,
       "version_minor": 0
      },
      "text/plain": [
       "[1/1] 100%|########## [00:00<?]"
      ]
     },
     "metadata": {},
     "output_type": "display_data"
    },
    {
     "name": "stdout",
     "output_type": "stream",
     "text": [
      "    5        0.692        0.685       0.000   0.01000       \n",
      "--- Training ended ---\n",
      "Training time: 0:00:00\n",
      "Best epoch: 1\n",
      "Best valid loss: 0.631\n",
      "Best valid accuracy (macro): 1.000\n",
      "Best F1 score: 0.000\n"
     ]
    }
   ],
   "source": [
    "cnn_classif.train()"
   ]
  },
  {
   "cell_type": "markdown",
   "metadata": {},
   "source": [
    "### Attention classifier\n",
    "\n",
    "**WARNING:** this classifier is not operational yet.\n",
    "\n",
    "This classifier uses an attention based neural network with a transformer-like architecture taken from the Phyloformer model. It is the only classifier that works on raw sequence data instead of per-MSA or per-site compositions.\n",
    "\n",
    "To use this classifier you have to create an instance of `AttentionClassifier` with its base data, device and `out_path`. Here we add other additional arguments, notably `max_width` which removes alignments with sequences longer than 500 sites, and `max_height` which removes alignments with more than 20 sequences.\n"
   ]
  },
  {
   "cell_type": "code",
   "execution_count": 17,
   "metadata": {},
   "outputs": [
    {
     "name": "stdout",
     "output_type": "stream",
     "text": [
      "2024-10-07 09:49:04   Limiting alignments width to 500\n",
      "2024-10-07 09:49:04   Removing 0/28 alignments.\n",
      "2024-10-07 09:49:04   Limiting alignments height to 20\n",
      "2024-10-07 09:49:04   Removing 2/28 alignments.\n"
     ]
    }
   ],
   "source": [
    "attention_classif = AttentionClassifier(\n",
    "    data,\n",
    "    max_width=500,\n",
    "    max_height=20,\n",
    "    split_proportion=0.9,\n",
    "    batch_size=16,\n",
    "    max_epochs=3,\n",
    "    device=DEVICE,\n",
    "    out_path=tempfile.TemporaryDirectory().name,\n",
    ")"
   ]
  },
  {
   "cell_type": "markdown",
   "metadata": {},
   "source": [
    "You can then run the classifier with its `train()` method.\n"
   ]
  },
  {
   "cell_type": "code",
   "execution_count": 18,
   "metadata": {},
   "outputs": [
    {
     "name": "stdout",
     "output_type": "stream",
     "text": [
      "--- Hyperparameters ---\n",
      "model = AttentionNet(\n",
      "  (rowAttentions): ModuleList(\n",
      "    (0-3): 4 x FixedKernelMultiAttention(\n",
      "      (k_proj): Linear(in_features=32, out_features=32, bias=True)\n",
      "      (q_proj): Linear(in_features=32, out_features=32, bias=True)\n",
      "      (v_proj): Linear(in_features=32, out_features=32, bias=True)\n",
      "      (elu): ELU(alpha=1.0)\n",
      "      (out_proj): Linear(in_features=32, out_features=32, bias=True)\n",
      "      (atten_drop): Dropout(p=0.0, inplace=False)\n",
      "      (proj_drop): Dropout(p=0.0, inplace=False)\n",
      "    )\n",
      "  )\n",
      "  (columnAttentions): ModuleList(\n",
      "    (0-3): 4 x FixedKernelMultiAttention(\n",
      "      (k_proj): Linear(in_features=32, out_features=32, bias=True)\n",
      "      (q_proj): Linear(in_features=32, out_features=32, bias=True)\n",
      "      (v_proj): Linear(in_features=32, out_features=32, bias=True)\n",
      "      (elu): ELU(alpha=1.0)\n",
      "      (out_proj): Linear(in_features=32, out_features=32, bias=True)\n",
      "      (atten_drop): Dropout(p=0.0, inplace=False)\n",
      "      (proj_drop): Dropout(p=0.0, inplace=False)\n",
      "    )\n",
      "  )\n",
      "  (layernorms): ModuleList(\n",
      "    (0-3): 4 x LayerNorm((32,), eps=1e-05, elementwise_affine=True)\n",
      "  )\n",
      "  (fNNs): ModuleList(\n",
      "    (0-3): 4 x Sequential(\n",
      "      (0): Conv2d(32, 128, kernel_size=(1, 1), stride=(1, 1))\n",
      "      (1): Dropout(p=0.0, inplace=False)\n",
      "      (2): GELU(approximate='none')\n",
      "      (3): Conv2d(128, 32, kernel_size=(1, 1), stride=(1, 1))\n",
      "      (4): Dropout(p=0.0, inplace=False)\n",
      "    )\n",
      "  )\n",
      "  (block_1_1): Sequential(\n",
      "    (0): Conv2d(253, 32, kernel_size=(1, 1), stride=(1, 1))\n",
      "    (1): ReLU()\n",
      "  )\n",
      "  (norm): LayerNorm((32,), eps=1e-05, elementwise_affine=True)\n",
      "  (pwFNN): Sequential(\n",
      "    (0): Conv2d(32, 2, kernel_size=(1, 1), stride=(1, 1))\n",
      "  )\n",
      ")\n",
      "split_proportion = 0.9\n",
      "batch_pad_sequences = True\n",
      "learning_rate = 0.001\n",
      "batch_size = 16\n",
      "max_epochs = 3\n",
      "early_stopping_patience = 5\n",
      "--- Creating loaders ---\n",
      "--- Training start ---\n",
      "Start training using cpu device.\n",
      "Epoch   Train loss   Valid loss    F1-score        Lr   Best\n",
      "------------------------------------------------------------\n"
     ]
    },
    {
     "data": {
      "application/vnd.jupyter.widget-view+json": {
       "model_id": "",
       "version_major": 2,
       "version_minor": 0
      },
      "text/plain": [
       "[1/6]  17%|#6         [00:00<?]"
      ]
     },
     "metadata": {},
     "output_type": "display_data"
    },
    {
     "name": "stdout",
     "output_type": "stream",
     "text": [
      "    1        0.757        0.800       0.000   0.00000      *\n"
     ]
    },
    {
     "data": {
      "application/vnd.jupyter.widget-view+json": {
       "model_id": "",
       "version_major": 2,
       "version_minor": 0
      },
      "text/plain": [
       "[1/6]  17%|#6         [00:00<?]"
      ]
     },
     "metadata": {},
     "output_type": "display_data"
    },
    {
     "name": "stdout",
     "output_type": "stream",
     "text": [
      "    2        0.707        0.690       0.000   0.00025      *\n"
     ]
    },
    {
     "data": {
      "application/vnd.jupyter.widget-view+json": {
       "model_id": "",
       "version_major": 2,
       "version_minor": 0
      },
      "text/plain": [
       "[1/6]  17%|#6         [00:00<?]"
      ]
     },
     "metadata": {},
     "output_type": "display_data"
    },
    {
     "name": "stdout",
     "output_type": "stream",
     "text": [
      "    3        0.712        0.695       0.000   0.00050       \n",
      "--- Training ended ---\n",
      "Training time: 0:01:10\n",
      "Best epoch: 2\n",
      "Best valid loss: 0.690\n",
      "Best valid accuracy (macro): 0.444\n",
      "Best F1 score: 0.000\n"
     ]
    }
   ],
   "source": [
    "attention_classif.train()"
   ]
  },
  {
   "cell_type": "markdown",
   "metadata": {},
   "source": [
    "## Pipeline in Python code or notebook\n",
    "\n",
    "Another way to use this package is to create a pipeline, which allows to run several classifiers at once on the same data.\n",
    "\n",
    "To do this in a Python script or notebook, you must create an instance of the `Pipeline` class by giving it the path of empirical data, the path of simulated data, the tokenizer to be used and the output path for the results.\n"
   ]
  },
  {
   "cell_type": "code",
   "execution_count": 18,
   "metadata": {},
   "outputs": [
    {
     "name": "stdout",
     "output_type": "stream",
     "text": [
      "2024-10-07 09:49:16   Tokenizing real alignments...\n",
      "2024-10-07 09:49:17   Removing sequences with ambiguous tokens...\n",
      "2024-10-07 09:49:17   127/8988 sequences have been removed from 84/488 alignements due to ambiguous sites.\n",
      "2024-10-07 09:49:17   Tokenizing simulated alignments...\n",
      "2024-10-07 09:49:20   Removing sequences with ambiguous tokens...\n",
      "2024-10-07 09:49:20   0/8713 sequences have been removed from 0/485 alignements due to ambiguous sites.\n",
      "2024-10-07 09:49:20   Checking alignments...\n",
      "2024-10-07 09:49:20   485 renamed keys in simulated aligns.\n",
      "2024-10-07 09:49:20   Creating labels...\n",
      "2024-10-07 09:49:20   Merging aligns and labels...\n",
      "2024-10-07 09:49:20   Total number of alignments: 973\n"
     ]
    }
   ],
   "source": [
    "pipeline = Pipeline(\n",
    "    real_path=\"../data/sample_lg_s256_gc/empirical/\",\n",
    "    sim_path=\"../data/sample_lg_s256_gc/simulated/\",\n",
    "    tokenizer=AA_TOKENIZER,\n",
    "    out_path=tempfile.TemporaryDirectory().name,\n",
    ")"
   ]
  },
  {
   "cell_type": "markdown",
   "metadata": {},
   "source": [
    "By calling the `preprocess_base_data()` method, the empirical and simulated data will be imported, tokenized and preprocessed.\n"
   ]
  },
  {
   "cell_type": "code",
   "execution_count": 19,
   "metadata": {},
   "outputs": [
    {
     "name": "stdout",
     "output_type": "stream",
     "text": [
      "2024-10-07 09:49:54   --- Preprocessing base data ---\n",
      "2024-10-07 09:49:54   Tokenizing real alignments...\n",
      "2024-10-07 09:49:56   Removing sequences with ambiguous tokens...\n",
      "2024-10-07 09:49:56   127/8988 sequences have been removed from 84/488 alignements due to ambiguous sites.\n",
      "2024-10-07 09:49:56   Tokenizing simulated alignments...\n",
      "2024-10-07 09:49:58   Removing sequences with ambiguous tokens...\n",
      "2024-10-07 09:49:58   0/8713 sequences have been removed from 0/485 alignements due to ambiguous sites.\n",
      "2024-10-07 09:49:58   Checking alignments...\n",
      "2024-10-07 09:49:58   485 renamed keys in simulated aligns.\n",
      "2024-10-07 09:49:58   Creating labels...\n",
      "2024-10-07 09:49:58   Merging aligns and labels...\n",
      "2024-10-07 09:49:58   Total number of alignments: 973\n"
     ]
    }
   ],
   "source": [
    "pipeline.preprocess_data()"
   ]
  },
  {
   "cell_type": "markdown",
   "metadata": {},
   "source": [
    "You can then add a classifier to the pipeline by calling the `add_classifier()` method and passing it the classifier name as a string.\n"
   ]
  },
  {
   "cell_type": "code",
   "execution_count": 20,
   "metadata": {},
   "outputs": [],
   "source": [
    "pipeline.add_classifier(\"LogisticRegressionClassifier\")"
   ]
  },
  {
   "cell_type": "markdown",
   "metadata": {},
   "source": [
    "You can pass additional arguments to the classifier by adding them to `add_classifier()`.\n"
   ]
  },
  {
   "cell_type": "code",
   "execution_count": 21,
   "metadata": {},
   "outputs": [],
   "source": [
    "pipeline.add_classifier(\"DenseMsaClassifier\", max_epochs=5)"
   ]
  },
  {
   "cell_type": "markdown",
   "metadata": {},
   "source": [
    "One pipeline specific argument is `out_dir`, which indicates the directory name to use to store the classifier results in `out_path`. By default `out_dir` has the same value as the classifier name, so the results of a `LogisticRegressionClassifier` will be saved into `{out_path}/LogisticRegressionClassifier`. Specifying an `out_dir` allows to run the same classifiers several times with different set of parameters in the same pipeline.\n"
   ]
  },
  {
   "cell_type": "code",
   "execution_count": 22,
   "metadata": {},
   "outputs": [],
   "source": [
    "pipeline.add_classifier(\n",
    "    \"LogisticRegressionClassifier\", scale_features=False, out_dir=\"UnscaledLogisticRegression\"\n",
    ")"
   ]
  },
  {
   "cell_type": "markdown",
   "metadata": {},
   "source": [
    "When wanted classifiers have been added, you can run the pipeline with its `run()` method. All classifiers will be run, with the training log displayed in the standard output, and logs and results saved in different directories.\n"
   ]
  },
  {
   "cell_type": "code",
   "execution_count": 23,
   "metadata": {},
   "outputs": [
    {
     "name": "stdout",
     "output_type": "stream",
     "text": [
      "2024-10-07 09:50:17   --- Start running LogisticRegressionClassifier ---\n",
      "2024-10-07 09:50:17   --- Preprocessing data ---\n"
     ]
    },
    {
     "name": "stdout",
     "output_type": "stream",
     "text": [
      "2024-10-07 09:50:17   --- Start training ---\n",
      "2024-10-07 09:50:17   Number of cross validation folds: 5\n",
      "2024-10-07 09:50:17   Shuffle data: False\n",
      "2024-10-07 09:50:17   Scale features: True\n",
      "2024-10-07 09:50:17   --- Training ended ---\n",
      "2024-10-07 09:50:17   Training time: 0:00:00\n",
      "2024-10-07 09:50:17   Fold F1 scores: ('0.9596', '0.9949', '0.9789', '0.9898', '0.9898')\n",
      "2024-10-07 09:50:17   --- End running LogisticRegressionClassifier ---\n",
      "2024-10-07 09:50:17   --- Start running DenseMsaClassifier ---\n",
      "2024-10-07 09:50:17   --- Hyperparameters ---\n",
      "2024-10-07 09:50:17   model = DenseMsaNet(\n",
      "2024-10-07 09:50:17     (dense_layer1): Sequential(\n",
      "2024-10-07 09:50:17       (0): Linear(in_features=22, out_features=100, bias=True)\n",
      "2024-10-07 09:50:17       (1): ReLU()\n",
      "2024-10-07 09:50:17       (2): Dropout(p=0.2, inplace=False)\n",
      "2024-10-07 09:50:17     )\n",
      "2024-10-07 09:50:17     (dense_layer2): Linear(in_features=100, out_features=1, bias=True)\n",
      "2024-10-07 09:50:17   )\n",
      "2024-10-07 09:50:17   split_proportion = 0.9\n",
      "2024-10-07 09:50:17   batch_pad_sequences = False\n",
      "2024-10-07 09:50:17   learning_rate = 0.01\n",
      "2024-10-07 09:50:17   batch_size = 64\n",
      "2024-10-07 09:50:17   max_epochs = 5\n",
      "2024-10-07 09:50:17   early_stopping_patience = 5\n",
      "2024-10-07 09:50:17   --- Creating loaders ---\n",
      "2024-10-07 09:50:17   --- Training start ---\n",
      "2024-10-07 09:50:17   Start training using cpu device.\n",
      "2024-10-07 09:50:17   Epoch   Train loss   Valid loss    F1-score        Lr   Best\n",
      "2024-10-07 09:50:17   ------------------------------------------------------------\n",
      "2024-10-07 09:50:17       1        0.694        0.698       0.000   0.00000      *\n",
      "2024-10-07 09:50:17       2        0.688        0.689       0.000   0.00250      *\n",
      "2024-10-07 09:50:17       3        0.677        0.676       0.630   0.00500      *\n",
      "2024-10-07 09:50:17       4        0.654        0.647       0.592   0.00750      *\n",
      "2024-10-07 09:50:17       5        0.609        0.610       0.750   0.01000      *\n",
      "2024-10-07 09:50:17   --- Training ended ---\n",
      "2024-10-07 09:50:17   Training time: 0:00:00\n",
      "2024-10-07 09:50:17   Best epoch: 5\n",
      "2024-10-07 09:50:17   Best valid loss: 0.610\n",
      "2024-10-07 09:50:17   Best valid accuracy (macro): 0.732\n",
      "2024-10-07 09:50:17   Best F1 score: 0.750\n",
      "2024-10-07 09:50:17   --- End running DenseMsaClassifier ---\n",
      "2024-10-07 09:50:17   --- Start running LogisticRegressionClassifier ---\n",
      "2024-10-07 09:50:17   --- Preprocessing data ---\n",
      "2024-10-07 09:50:17   --- Start training ---\n",
      "2024-10-07 09:50:17   Number of cross validation folds: 5\n",
      "2024-10-07 09:50:17   Shuffle data: False\n",
      "2024-10-07 09:50:17   Scale features: False\n",
      "2024-10-07 09:50:18   --- Training ended ---\n",
      "2024-10-07 09:50:18   Training time: 0:00:00\n",
      "2024-10-07 09:50:18   Fold F1 scores: ('0.5895', '0.7166', '0.715', '0.6595', '0.5977')\n",
      "2024-10-07 09:50:18   --- End running LogisticRegressionClassifier ---\n"
     ]
    }
   ],
   "source": [
    "pipeline.run()"
   ]
  },
  {
   "cell_type": "markdown",
   "metadata": {},
   "source": [
    "## Pipeline from the command line\n",
    "\n",
    "The third way to use this package is to create and run a pipeline directly from the command line. In this case, the pipeline configuration must be created as a JSON file.\n",
    "\n",
    "An example file can be found in `config/sample_config.json`:\n",
    "\n",
    "```json\n",
    "{\n",
    "    \"real_path\": \"data/sample_lg_s256_gc/empirical/\",\n",
    "    \"sim_path\": \"data/sample_lg_s256_gc/simulated/\",\n",
    "    \"tokenizer\": \"AA_TOKENIZER\",\n",
    "    \"out_path\": \"runs/test_pipeline\",\n",
    "    \"classifiers\": [\n",
    "        {\n",
    "            \"classifier\": \"LogisticRegressionClassifier\",\n",
    "            \"args\": { \"scale_features\": true }\n",
    "        },\n",
    "        {\n",
    "            \"classifier\": \"LogisticRegressionClassifier\",\n",
    "            \"args\": { \"scale_features\": false },\n",
    "            \"out_dir\": \"LogisticRegressionUnscaled\"\n",
    "        },\n",
    "        {\n",
    "            \"classifier\": \"DenseMsaClassifier\",\n",
    "            \"args\": { \"batch_size\": 32, \"max_epochs\": 500 }\n",
    "        },\n",
    "        { \"classifier\": \"DenseSiteClassifier\" },\n",
    "        {\n",
    "            \"classifier\": \"AACnnClassifier\",\n",
    "            \"args\": { \"batch_size\": 64, \"max_epochs\": 500 }\n",
    "        },\n",
    "        {\n",
    "            \"classifier\": \"AttentionClassifier\",\n",
    "            \"args\": { \"batch_size\": 16, \"max_width\": 400 }\n",
    "        }\n",
    "    ]\n",
    "}\n",
    "```\n",
    "\n",
    "The top level elements of this file are:\n",
    "\n",
    "-   `real_path`: path to folder with empirical Fasta files\n",
    "-   `sim_path`: path to folder with simulated Fasta files\n",
    "-   `tokenizer`: tokenizer to be used, can be `\"AA_TOKENIZER\"` or `\"DNA_TOKENIZER\"`\n",
    "-   `out_path`: path to store output of the pipeline\n",
    "-   `classifiers`: array containing a list of classifiers to be run on the data\n",
    "\n",
    "Classifiers in the `classifiers` array are defined with a dictionary with the following entries:\n",
    "\n",
    "-   `classifier`: the name of the classifier to run (`\"DenseMsaClassifier\"`, `\"AACnnClassifier\"`, etc.)\n",
    "-   `args` (optional): arguments to pass to the classifier init method (depending on the classifier, can be `scale_features`, `batch_size`, `max_width`, etc.)\n",
    "-   `out_dir` (optional): the directory name to store this classifier output in `out_path`. By default the directory name is the same as the classifier name.\n",
    "\n",
    "Once the configuration file has been created, you can run the pipeline with:\n",
    "\n",
    "```shell\n",
    "uv run python src/classifiers/pipeline.py --config config/sample_config.json --no-progress\n",
    "# or, equivalently\n",
    "uv run -m classifiers.pipeline --config config/sample_config.json --no-progress\n",
    "```\n"
   ]
  }
 ],
 "metadata": {
  "kernelspec": {
   "display_name": ".venv",
   "language": "python",
   "name": "python3"
  },
  "language_info": {
   "codemirror_mode": {
    "name": "ipython",
    "version": 3
   },
   "file_extension": ".py",
   "mimetype": "text/x-python",
   "name": "python",
   "nbconvert_exporter": "python",
   "pygments_lexer": "ipython3",
   "version": "3.12.6"
  },
  "widgets": {
   "application/vnd.jupyter.widget-state+json": {
    "state": {
     "002f6415ac864e818a6b6cbf00c18acf": {
      "model_module": "@jupyter-widgets/controls",
      "model_module_version": "2.0.0",
      "model_name": "HTMLStyleModel",
      "state": {
       "description_width": "",
       "font_size": null,
       "text_color": null
      }
     },
     "022a331e902e48f5ad097a7a9b96f3eb": {
      "model_module": "@jupyter-widgets/controls",
      "model_module_version": "2.0.0",
      "model_name": "HTMLModel",
      "state": {
       "layout": "IPY_MODEL_26d4d3a278004174b96303dadc4960f3",
       "style": "IPY_MODEL_d41157fbf0f9411dbe4bb1642c6a119e",
       "value": " [00:04&lt;00:00]"
      }
     },
     "0233f45107e34c70a6794201e6222ea4": {
      "model_module": "@jupyter-widgets/base",
      "model_module_version": "2.0.0",
      "model_name": "LayoutModel",
      "state": {}
     },
     "039922a3b0d34c27b7dca933aada6172": {
      "model_module": "@jupyter-widgets/base",
      "model_module_version": "2.0.0",
      "model_name": "LayoutModel",
      "state": {}
     },
     "039a247eda5c4245bd6d1449572aafe7": {
      "model_module": "@jupyter-widgets/base",
      "model_module_version": "2.0.0",
      "model_name": "LayoutModel",
      "state": {}
     },
     "045b7ce6a2e349d4b13fb5c6d34e80d9": {
      "model_module": "@jupyter-widgets/controls",
      "model_module_version": "2.0.0",
      "model_name": "HTMLModel",
      "state": {
       "layout": "IPY_MODEL_039922a3b0d34c27b7dca933aada6172",
       "style": "IPY_MODEL_ad44e59069b7455da60d7185c76f57f3",
       "value": "Epoch [2/5]: [14/14] 100%"
      }
     },
     "05f703380de74d34a9145db2d1d100f9": {
      "model_module": "@jupyter-widgets/base",
      "model_module_version": "2.0.0",
      "model_name": "LayoutModel",
      "state": {}
     },
     "06643aec5e5040e89944ed839659e7dc": {
      "model_module": "@jupyter-widgets/base",
      "model_module_version": "2.0.0",
      "model_name": "LayoutModel",
      "state": {}
     },
     "07a1f85e8fc745b9ab426ef68ea26b2e": {
      "model_module": "@jupyter-widgets/base",
      "model_module_version": "2.0.0",
      "model_name": "LayoutModel",
      "state": {}
     },
     "0a0f4495d7fd40eb8a88905395530c46": {
      "model_module": "@jupyter-widgets/controls",
      "model_module_version": "2.0.0",
      "model_name": "HTMLModel",
      "state": {
       "layout": "IPY_MODEL_9fee4d0ff1d948fc962b8b796409f274",
       "style": "IPY_MODEL_c8ffeb23d54d428da42837fb242dedc0",
       "value": "Epoch [5/5]: [14/14] 100%"
      }
     },
     "0d90b0341c714cb0910786006a708b79": {
      "model_module": "@jupyter-widgets/base",
      "model_module_version": "2.0.0",
      "model_name": "LayoutModel",
      "state": {}
     },
     "0e6a6dbc985240c0bc5d2109fb95ddd3": {
      "model_module": "@jupyter-widgets/controls",
      "model_module_version": "2.0.0",
      "model_name": "HTMLModel",
      "state": {
       "layout": "IPY_MODEL_990f12775caa4f1faf5eb76dd3e2a5bb",
       "style": "IPY_MODEL_002f6415ac864e818a6b6cbf00c18acf",
       "value": "Epoch [3/5]: [13/14]  93%"
      }
     },
     "0eca44c66a2a4bf6a3fa6fba1af940a2": {
      "model_module": "@jupyter-widgets/base",
      "model_module_version": "2.0.0",
      "model_name": "LayoutModel",
      "state": {}
     },
     "10428ae38c814a579374094c1de8766b": {
      "model_module": "@jupyter-widgets/controls",
      "model_module_version": "2.0.0",
      "model_name": "HTMLModel",
      "state": {
       "layout": "IPY_MODEL_944947c71a974bed9f1f4f2cb239eba2",
       "style": "IPY_MODEL_7b1280f4ece44ff0b2ac2aa79374c60a",
       "value": "Epoch [4/5]: [13/14]  93%"
      }
     },
     "12cb3bda937d48a1825875c6233e96b2": {
      "model_module": "@jupyter-widgets/base",
      "model_module_version": "2.0.0",
      "model_name": "LayoutModel",
      "state": {
       "visibility": "hidden"
      }
     },
     "177f8de4863d4a0d8cc96e4f215a2263": {
      "model_module": "@jupyter-widgets/controls",
      "model_module_version": "2.0.0",
      "model_name": "HTMLModel",
      "state": {
       "layout": "IPY_MODEL_fe99725c650f4e65819a8227750ced79",
       "style": "IPY_MODEL_7a11a690fed84229877694a256164e7f",
       "value": "Epoch [1/5]: [14/14] 100%"
      }
     },
     "197509fa4ec045f2af8bef150b3f1c32": {
      "model_module": "@jupyter-widgets/controls",
      "model_module_version": "2.0.0",
      "model_name": "ProgressStyleModel",
      "state": {
       "description_width": ""
      }
     },
     "1f6792fb9d974f598490c4f2feeeb742": {
      "model_module": "@jupyter-widgets/controls",
      "model_module_version": "2.0.0",
      "model_name": "HTMLStyleModel",
      "state": {
       "description_width": "",
       "font_size": null,
       "text_color": null
      }
     },
     "1fcca505b5cc45e4b9fd08eff0dee7e8": {
      "model_module": "@jupyter-widgets/controls",
      "model_module_version": "2.0.0",
      "model_name": "FloatProgressModel",
      "state": {
       "layout": "IPY_MODEL_06643aec5e5040e89944ed839659e7dc",
       "max": 14,
       "style": "IPY_MODEL_197509fa4ec045f2af8bef150b3f1c32",
       "value": 14
      }
     },
     "22125e1ebab142f290d44e8dfccf4fca": {
      "model_module": "@jupyter-widgets/controls",
      "model_module_version": "2.0.0",
      "model_name": "ProgressStyleModel",
      "state": {
       "description_width": ""
      }
     },
     "2392fc44a4e049bbb45bd97c350d82d4": {
      "model_module": "@jupyter-widgets/base",
      "model_module_version": "2.0.0",
      "model_name": "LayoutModel",
      "state": {}
     },
     "24f0f6fd0c9f4193ba0414207ce34098": {
      "model_module": "@jupyter-widgets/base",
      "model_module_version": "2.0.0",
      "model_name": "LayoutModel",
      "state": {}
     },
     "258201b795c14a14a869e44ca5d1bfd3": {
      "model_module": "@jupyter-widgets/controls",
      "model_module_version": "2.0.0",
      "model_name": "HTMLModel",
      "state": {
       "layout": "IPY_MODEL_3d747bbacb7041d5b82af4e4ad7ce417",
       "style": "IPY_MODEL_1f6792fb9d974f598490c4f2feeeb742",
       "value": " [00:04&lt;00:00]"
      }
     },
     "267a48fc695c4c1da36a4b564df305cc": {
      "model_module": "@jupyter-widgets/base",
      "model_module_version": "2.0.0",
      "model_name": "LayoutModel",
      "state": {}
     },
     "26d4d3a278004174b96303dadc4960f3": {
      "model_module": "@jupyter-widgets/base",
      "model_module_version": "2.0.0",
      "model_name": "LayoutModel",
      "state": {}
     },
     "28f6d477a239493da29451e78d75a577": {
      "model_module": "@jupyter-widgets/controls",
      "model_module_version": "2.0.0",
      "model_name": "ProgressStyleModel",
      "state": {
       "description_width": ""
      }
     },
     "2962b357f1984891a3d753eb4513e5ef": {
      "model_module": "@jupyter-widgets/controls",
      "model_module_version": "2.0.0",
      "model_name": "HTMLModel",
      "state": {
       "layout": "IPY_MODEL_8b2542d9b84f4dea95405785e2382a1a",
       "style": "IPY_MODEL_47f2855bc62d40c6b793c525de1af256",
       "value": "Epoch [2/5]: [13/14]  93%"
      }
     },
     "2a0f2a4b671541a88c2e5b8024e76813": {
      "model_module": "@jupyter-widgets/base",
      "model_module_version": "2.0.0",
      "model_name": "LayoutModel",
      "state": {}
     },
     "2a18dc771c2d478f858341f8364d2c9e": {
      "model_module": "@jupyter-widgets/base",
      "model_module_version": "2.0.0",
      "model_name": "LayoutModel",
      "state": {}
     },
     "2a8c58063dd84927968b4e74acd20b6d": {
      "model_module": "@jupyter-widgets/controls",
      "model_module_version": "2.0.0",
      "model_name": "FloatProgressModel",
      "state": {
       "layout": "IPY_MODEL_712869eb5de247f49039c727c1b29277",
       "max": 14,
       "style": "IPY_MODEL_6fc0a7a419ce4ff7a47fb8f18a2501aa",
       "value": 14
      }
     },
     "2aa1f5f1562a4626ab22ea3b62dd28a5": {
      "model_module": "@jupyter-widgets/controls",
      "model_module_version": "2.0.0",
      "model_name": "HTMLModel",
      "state": {
       "layout": "IPY_MODEL_2bb43c82a05443839ccb7a5d09a93c93",
       "style": "IPY_MODEL_7f6de5436bee44209b70c61b4a500aa8",
       "value": " [00:14&lt;00:00]"
      }
     },
     "2bb43c82a05443839ccb7a5d09a93c93": {
      "model_module": "@jupyter-widgets/base",
      "model_module_version": "2.0.0",
      "model_name": "LayoutModel",
      "state": {}
     },
     "2c78d2bac03b4aa0adcbdd9fbf3fe04e": {
      "model_module": "@jupyter-widgets/base",
      "model_module_version": "2.0.0",
      "model_name": "LayoutModel",
      "state": {}
     },
     "2d5955f19c6a4eb3945a97b9472b5206": {
      "model_module": "@jupyter-widgets/base",
      "model_module_version": "2.0.0",
      "model_name": "LayoutModel",
      "state": {}
     },
     "2f9f6c92709c42aab446ac679f889d9e": {
      "model_module": "@jupyter-widgets/controls",
      "model_module_version": "2.0.0",
      "model_name": "HTMLModel",
      "state": {
       "layout": "IPY_MODEL_0d90b0341c714cb0910786006a708b79",
       "style": "IPY_MODEL_da28da09605545978c81cb3aadf75416",
       "value": "Epoch [1/3]: [6/6] 100%"
      }
     },
     "3051e6808e354fa7a3176c6c6e9b900f": {
      "model_module": "@jupyter-widgets/controls",
      "model_module_version": "2.0.0",
      "model_name": "ProgressStyleModel",
      "state": {
       "description_width": ""
      }
     },
     "32297e09db66429685e5a1594c4a3a53": {
      "model_module": "@jupyter-widgets/controls",
      "model_module_version": "2.0.0",
      "model_name": "HTMLModel",
      "state": {
       "layout": "IPY_MODEL_a1f3f30ffe7a45ce9dda0f0ee2b17e93",
       "style": "IPY_MODEL_483513417a4b41b48c4aacf43ba31cdf",
       "value": "Epoch [2/3]: [6/6] 100%"
      }
     },
     "33334fc92afb4d208a42e8f9bf5e033a": {
      "model_module": "@jupyter-widgets/base",
      "model_module_version": "2.0.0",
      "model_name": "LayoutModel",
      "state": {}
     },
     "3362f20553744e2b9dcd52f259475679": {
      "model_module": "@jupyter-widgets/base",
      "model_module_version": "2.0.0",
      "model_name": "LayoutModel",
      "state": {
       "visibility": "hidden"
      }
     },
     "33e41685d11f41e79c51d50157fe02f7": {
      "model_module": "@jupyter-widgets/controls",
      "model_module_version": "2.0.0",
      "model_name": "FloatProgressModel",
      "state": {
       "layout": "IPY_MODEL_91aaea2914e545828d62b43360514440",
       "max": 14,
       "style": "IPY_MODEL_fa7220f25ed8480f9e2583fef163526d",
       "value": 14
      }
     },
     "3d492c7683f945849ebb2110434aca8a": {
      "model_module": "@jupyter-widgets/base",
      "model_module_version": "2.0.0",
      "model_name": "LayoutModel",
      "state": {}
     },
     "3d747bbacb7041d5b82af4e4ad7ce417": {
      "model_module": "@jupyter-widgets/base",
      "model_module_version": "2.0.0",
      "model_name": "LayoutModel",
      "state": {}
     },
     "3e6e350440a14df1b23d533e5dee122d": {
      "model_module": "@jupyter-widgets/controls",
      "model_module_version": "2.0.0",
      "model_name": "HTMLStyleModel",
      "state": {
       "description_width": "",
       "font_size": null,
       "text_color": null
      }
     },
     "3ee2ea1479604ce6803cf95f662816e8": {
      "model_module": "@jupyter-widgets/base",
      "model_module_version": "2.0.0",
      "model_name": "LayoutModel",
      "state": {
       "visibility": "hidden"
      }
     },
     "3f4399acda554382b396a458bf03b8fc": {
      "model_module": "@jupyter-widgets/controls",
      "model_module_version": "2.0.0",
      "model_name": "HTMLStyleModel",
      "state": {
       "description_width": "",
       "font_size": null,
       "text_color": null
      }
     },
     "442171c646ab42a5baf3db7fadfc646c": {
      "model_module": "@jupyter-widgets/controls",
      "model_module_version": "2.0.0",
      "model_name": "ProgressStyleModel",
      "state": {
       "description_width": ""
      }
     },
     "44defc7b3e3543a6b63ef2b6dc281781": {
      "model_module": "@jupyter-widgets/controls",
      "model_module_version": "2.0.0",
      "model_name": "ProgressStyleModel",
      "state": {
       "description_width": ""
      }
     },
     "4728b2ad25044b318b34f544c5bb116a": {
      "model_module": "@jupyter-widgets/controls",
      "model_module_version": "2.0.0",
      "model_name": "ProgressStyleModel",
      "state": {
       "description_width": ""
      }
     },
     "47f2855bc62d40c6b793c525de1af256": {
      "model_module": "@jupyter-widgets/controls",
      "model_module_version": "2.0.0",
      "model_name": "HTMLStyleModel",
      "state": {
       "description_width": "",
       "font_size": null,
       "text_color": null
      }
     },
     "483513417a4b41b48c4aacf43ba31cdf": {
      "model_module": "@jupyter-widgets/controls",
      "model_module_version": "2.0.0",
      "model_name": "HTMLStyleModel",
      "state": {
       "description_width": "",
       "font_size": null,
       "text_color": null
      }
     },
     "48e6f97e286143828cfa42a7b8a7d9de": {
      "model_module": "@jupyter-widgets/controls",
      "model_module_version": "2.0.0",
      "model_name": "HTMLStyleModel",
      "state": {
       "description_width": "",
       "font_size": null,
       "text_color": null
      }
     },
     "49c04dc5a26f4e238df00b563591f347": {
      "model_module": "@jupyter-widgets/controls",
      "model_module_version": "2.0.0",
      "model_name": "HTMLModel",
      "state": {
       "layout": "IPY_MODEL_d9fb3af7f7cd4063bdc759e43273fef5",
       "style": "IPY_MODEL_dd9e1c73274446dabf0f72461a051dec",
       "value": "Epoch [3/5]: [14/14] 100%"
      }
     },
     "4a2d8b262460421395f80770376d5482": {
      "model_module": "@jupyter-widgets/base",
      "model_module_version": "2.0.0",
      "model_name": "LayoutModel",
      "state": {
       "visibility": "hidden"
      }
     },
     "4aa2ac577e9d4da1ab11544be4144e5d": {
      "model_module": "@jupyter-widgets/base",
      "model_module_version": "2.0.0",
      "model_name": "LayoutModel",
      "state": {}
     },
     "4bdbd513ca984b508052d8fac0d2416a": {
      "model_module": "@jupyter-widgets/base",
      "model_module_version": "2.0.0",
      "model_name": "LayoutModel",
      "state": {}
     },
     "4bf80360589d40b8ad4807f928d6c1a9": {
      "model_module": "@jupyter-widgets/controls",
      "model_module_version": "2.0.0",
      "model_name": "HTMLModel",
      "state": {
       "layout": "IPY_MODEL_a80b64dbba824fdc885214d0a2091ff9",
       "style": "IPY_MODEL_e89f9a1f3c0b463c8dfeccc456282e97",
       "value": "Epoch [4/5]: [14/14] 100%"
      }
     },
     "4c3cfced615546a3930eeca066c152e3": {
      "model_module": "@jupyter-widgets/controls",
      "model_module_version": "2.0.0",
      "model_name": "FloatProgressModel",
      "state": {
       "layout": "IPY_MODEL_0eca44c66a2a4bf6a3fa6fba1af940a2",
       "max": 14,
       "style": "IPY_MODEL_52375d56aad9478e9f8ea35efcaa23e3",
       "value": 14
      }
     },
     "4d2138275aa4417b9b7340e2419556af": {
      "model_module": "@jupyter-widgets/controls",
      "model_module_version": "2.0.0",
      "model_name": "ProgressStyleModel",
      "state": {
       "description_width": ""
      }
     },
     "4e5fec310ab045cb81e0cd59eeee0860": {
      "model_module": "@jupyter-widgets/controls",
      "model_module_version": "2.0.0",
      "model_name": "HTMLStyleModel",
      "state": {
       "description_width": "",
       "font_size": null,
       "text_color": null
      }
     },
     "516bf3ab671245efa0fa094a503fc795": {
      "model_module": "@jupyter-widgets/controls",
      "model_module_version": "2.0.0",
      "model_name": "HTMLModel",
      "state": {
       "layout": "IPY_MODEL_2c78d2bac03b4aa0adcbdd9fbf3fe04e",
       "style": "IPY_MODEL_937625bed07842ab9dcb3ec27f10d128",
       "value": " [00:08&lt;00:00]"
      }
     },
     "52375d56aad9478e9f8ea35efcaa23e3": {
      "model_module": "@jupyter-widgets/controls",
      "model_module_version": "2.0.0",
      "model_name": "ProgressStyleModel",
      "state": {
       "description_width": ""
      }
     },
     "5418940f9d8347dcaaaa70ceaf9c5b46": {
      "model_module": "@jupyter-widgets/controls",
      "model_module_version": "2.0.0",
      "model_name": "HTMLStyleModel",
      "state": {
       "description_width": "",
       "font_size": null,
       "text_color": null
      }
     },
     "5492960ec4e144f98748c400eef0c23d": {
      "model_module": "@jupyter-widgets/base",
      "model_module_version": "2.0.0",
      "model_name": "LayoutModel",
      "state": {
       "visibility": "hidden"
      }
     },
     "54c9a02ab17147028c66cee9e578839d": {
      "model_module": "@jupyter-widgets/controls",
      "model_module_version": "2.0.0",
      "model_name": "FloatProgressModel",
      "state": {
       "layout": "IPY_MODEL_d1f725362c254457bc9956eb03912b55",
       "max": 14,
       "style": "IPY_MODEL_7471ec06e4a04b9f849b903786530544",
       "value": 14
      }
     },
     "56342b360de44b27b10f416dffc08d91": {
      "model_module": "@jupyter-widgets/base",
      "model_module_version": "2.0.0",
      "model_name": "LayoutModel",
      "state": {
       "visibility": "hidden"
      }
     },
     "6004fc20b8594d189c52a0af9b06fad9": {
      "model_module": "@jupyter-widgets/controls",
      "model_module_version": "2.0.0",
      "model_name": "HTMLStyleModel",
      "state": {
       "description_width": "",
       "font_size": null,
       "text_color": null
      }
     },
     "61a138047026491ca85e65c43251d358": {
      "model_module": "@jupyter-widgets/controls",
      "model_module_version": "2.0.0",
      "model_name": "FloatProgressModel",
      "state": {
       "layout": "IPY_MODEL_05f703380de74d34a9145db2d1d100f9",
       "max": 14,
       "style": "IPY_MODEL_aabb70c4ad1242fb91c17154c15c2d0e",
       "value": 14
      }
     },
     "67e39d04be3142008179741d225a0f62": {
      "model_module": "@jupyter-widgets/controls",
      "model_module_version": "2.0.0",
      "model_name": "ProgressStyleModel",
      "state": {
       "description_width": ""
      }
     },
     "6a3cb3161348410aa8443bff2cc029d3": {
      "model_module": "@jupyter-widgets/controls",
      "model_module_version": "2.0.0",
      "model_name": "HTMLModel",
      "state": {
       "layout": "IPY_MODEL_2a18dc771c2d478f858341f8364d2c9e",
       "style": "IPY_MODEL_91a3f7639d3b452e95676cb64e1a26d1",
       "value": "Epoch [1/5]: [14/14] 100%"
      }
     },
     "6f2cc5d0637248c19b5739fd37e44ffc": {
      "model_module": "@jupyter-widgets/controls",
      "model_module_version": "2.0.0",
      "model_name": "HTMLModel",
      "state": {
       "layout": "IPY_MODEL_a67790740a1c4f36826bb413cb6eb4c7",
       "style": "IPY_MODEL_d563f26c88824fa2af6b2ce4461a2db7",
       "value": " [00:06&lt;00:00]"
      }
     },
     "6f4ec4fccb7f4796b5174f3f8a3cf7e9": {
      "model_module": "@jupyter-widgets/controls",
      "model_module_version": "2.0.0",
      "model_name": "FloatProgressModel",
      "state": {
       "layout": "IPY_MODEL_4aa2ac577e9d4da1ab11544be4144e5d",
       "max": 14,
       "style": "IPY_MODEL_442171c646ab42a5baf3db7fadfc646c",
       "value": 14
      }
     },
     "6fc0a7a419ce4ff7a47fb8f18a2501aa": {
      "model_module": "@jupyter-widgets/controls",
      "model_module_version": "2.0.0",
      "model_name": "ProgressStyleModel",
      "state": {
       "description_width": ""
      }
     },
     "712869eb5de247f49039c727c1b29277": {
      "model_module": "@jupyter-widgets/base",
      "model_module_version": "2.0.0",
      "model_name": "LayoutModel",
      "state": {}
     },
     "7471ec06e4a04b9f849b903786530544": {
      "model_module": "@jupyter-widgets/controls",
      "model_module_version": "2.0.0",
      "model_name": "ProgressStyleModel",
      "state": {
       "description_width": ""
      }
     },
     "759d11b858054d818dbdfa9a9ddd5b1e": {
      "model_module": "@jupyter-widgets/base",
      "model_module_version": "2.0.0",
      "model_name": "LayoutModel",
      "state": {
       "visibility": "hidden"
      }
     },
     "75deccb4bbb74fac9c7bf2ed0e9e6cd7": {
      "model_module": "@jupyter-widgets/controls",
      "model_module_version": "2.0.0",
      "model_name": "HTMLStyleModel",
      "state": {
       "description_width": "",
       "font_size": null,
       "text_color": null
      }
     },
     "7645b1b073f647f089b90bc1a632e711": {
      "model_module": "@jupyter-widgets/base",
      "model_module_version": "2.0.0",
      "model_name": "LayoutModel",
      "state": {}
     },
     "773fa6c017af425eb43b89a7c09f4951": {
      "model_module": "@jupyter-widgets/controls",
      "model_module_version": "2.0.0",
      "model_name": "HTMLModel",
      "state": {
       "layout": "IPY_MODEL_f38c61a919a44e2c924b15741eaf8552",
       "style": "IPY_MODEL_48e6f97e286143828cfa42a7b8a7d9de",
       "value": "Epoch [3/3]: [6/6] 100%"
      }
     },
     "785106c5abe94c93a98bd8d89b39b2f7": {
      "model_module": "@jupyter-widgets/controls",
      "model_module_version": "2.0.0",
      "model_name": "HTMLStyleModel",
      "state": {
       "description_width": "",
       "font_size": null,
       "text_color": null
      }
     },
     "7971829b9ac7432cbc8522fcc2713fe0": {
      "model_module": "@jupyter-widgets/controls",
      "model_module_version": "2.0.0",
      "model_name": "HTMLStyleModel",
      "state": {
       "description_width": "",
       "font_size": null,
       "text_color": null
      }
     },
     "7a11a690fed84229877694a256164e7f": {
      "model_module": "@jupyter-widgets/controls",
      "model_module_version": "2.0.0",
      "model_name": "HTMLStyleModel",
      "state": {
       "description_width": "",
       "font_size": null,
       "text_color": null
      }
     },
     "7b1280f4ece44ff0b2ac2aa79374c60a": {
      "model_module": "@jupyter-widgets/controls",
      "model_module_version": "2.0.0",
      "model_name": "HTMLStyleModel",
      "state": {
       "description_width": "",
       "font_size": null,
       "text_color": null
      }
     },
     "7f6de5436bee44209b70c61b4a500aa8": {
      "model_module": "@jupyter-widgets/controls",
      "model_module_version": "2.0.0",
      "model_name": "HTMLStyleModel",
      "state": {
       "description_width": "",
       "font_size": null,
       "text_color": null
      }
     },
     "80d2adceeb054c9e981dde1249581f53": {
      "model_module": "@jupyter-widgets/base",
      "model_module_version": "2.0.0",
      "model_name": "LayoutModel",
      "state": {}
     },
     "813cbf35f50148b7afd420b69c5a3821": {
      "model_module": "@jupyter-widgets/controls",
      "model_module_version": "2.0.0",
      "model_name": "HTMLStyleModel",
      "state": {
       "description_width": "",
       "font_size": null,
       "text_color": null
      }
     },
     "819b1bc5c1c540bfbe023f5f7c47f9a3": {
      "model_module": "@jupyter-widgets/controls",
      "model_module_version": "2.0.0",
      "model_name": "HTMLModel",
      "state": {
       "layout": "IPY_MODEL_f7fb0c9ab8f8473581fb3b7e3165a820",
       "style": "IPY_MODEL_a6171a91eeaa43599406b4341eebc164",
       "value": "Epoch [1/5]: [13/14]  93%"
      }
     },
     "8336c6290d184b468898a323e7aad69d": {
      "model_module": "@jupyter-widgets/controls",
      "model_module_version": "2.0.0",
      "model_name": "FloatProgressModel",
      "state": {
       "layout": "IPY_MODEL_929df382671a4339ae976b343debccab",
       "max": 14,
       "style": "IPY_MODEL_9a23eced144141d5a86d3beddbaa8f9a",
       "value": 14
      }
     },
     "83c669aad5694c388777d8197cdf1c67": {
      "model_module": "@jupyter-widgets/base",
      "model_module_version": "2.0.0",
      "model_name": "LayoutModel",
      "state": {}
     },
     "88b689499d2b417babc5c83c09e609e9": {
      "model_module": "@jupyter-widgets/base",
      "model_module_version": "2.0.0",
      "model_name": "LayoutModel",
      "state": {
       "visibility": "hidden"
      }
     },
     "8a9ea81039124b0a88c2c0c4a2851ad3": {
      "model_module": "@jupyter-widgets/controls",
      "model_module_version": "2.0.0",
      "model_name": "HTMLModel",
      "state": {
       "layout": "IPY_MODEL_950ee0ea125e4dcb855c70c96737ce99",
       "style": "IPY_MODEL_6004fc20b8594d189c52a0af9b06fad9",
       "value": " [00:06&lt;00:00]"
      }
     },
     "8b2542d9b84f4dea95405785e2382a1a": {
      "model_module": "@jupyter-widgets/base",
      "model_module_version": "2.0.0",
      "model_name": "LayoutModel",
      "state": {}
     },
     "8eae648bfcce46b0926c88542117383a": {
      "model_module": "@jupyter-widgets/controls",
      "model_module_version": "2.0.0",
      "model_name": "ProgressStyleModel",
      "state": {
       "description_width": ""
      }
     },
     "8fe9201f43e7433c9cd4f5441edf48f7": {
      "model_module": "@jupyter-widgets/base",
      "model_module_version": "2.0.0",
      "model_name": "LayoutModel",
      "state": {}
     },
     "9141c7119ddf4477a7726408376c9a5c": {
      "model_module": "@jupyter-widgets/base",
      "model_module_version": "2.0.0",
      "model_name": "LayoutModel",
      "state": {
       "visibility": "hidden"
      }
     },
     "91a3f7639d3b452e95676cb64e1a26d1": {
      "model_module": "@jupyter-widgets/controls",
      "model_module_version": "2.0.0",
      "model_name": "HTMLStyleModel",
      "state": {
       "description_width": "",
       "font_size": null,
       "text_color": null
      }
     },
     "91aaea2914e545828d62b43360514440": {
      "model_module": "@jupyter-widgets/base",
      "model_module_version": "2.0.0",
      "model_name": "LayoutModel",
      "state": {}
     },
     "929df382671a4339ae976b343debccab": {
      "model_module": "@jupyter-widgets/base",
      "model_module_version": "2.0.0",
      "model_name": "LayoutModel",
      "state": {}
     },
     "92c97c4b61bc4317959d243598274451": {
      "model_module": "@jupyter-widgets/controls",
      "model_module_version": "2.0.0",
      "model_name": "HTMLStyleModel",
      "state": {
       "description_width": "",
       "font_size": null,
       "text_color": null
      }
     },
     "937625bed07842ab9dcb3ec27f10d128": {
      "model_module": "@jupyter-widgets/controls",
      "model_module_version": "2.0.0",
      "model_name": "HTMLStyleModel",
      "state": {
       "description_width": "",
       "font_size": null,
       "text_color": null
      }
     },
     "940440965fa142b696f837ddd36210c1": {
      "model_module": "@jupyter-widgets/base",
      "model_module_version": "2.0.0",
      "model_name": "LayoutModel",
      "state": {}
     },
     "9427bd41f6554292ad9e0be1b792d051": {
      "model_module": "@jupyter-widgets/base",
      "model_module_version": "2.0.0",
      "model_name": "LayoutModel",
      "state": {}
     },
     "944947c71a974bed9f1f4f2cb239eba2": {
      "model_module": "@jupyter-widgets/base",
      "model_module_version": "2.0.0",
      "model_name": "LayoutModel",
      "state": {}
     },
     "950ee0ea125e4dcb855c70c96737ce99": {
      "model_module": "@jupyter-widgets/base",
      "model_module_version": "2.0.0",
      "model_name": "LayoutModel",
      "state": {}
     },
     "968e00193cba4c9cbf237e6e0478f9ac": {
      "model_module": "@jupyter-widgets/base",
      "model_module_version": "2.0.0",
      "model_name": "LayoutModel",
      "state": {}
     },
     "96d29022da0f460bae482755413a1d6c": {
      "model_module": "@jupyter-widgets/controls",
      "model_module_version": "2.0.0",
      "model_name": "HTMLStyleModel",
      "state": {
       "description_width": "",
       "font_size": null,
       "text_color": null
      }
     },
     "98d351930b9849beb9245b62e1990920": {
      "model_module": "@jupyter-widgets/base",
      "model_module_version": "2.0.0",
      "model_name": "LayoutModel",
      "state": {}
     },
     "990f12775caa4f1faf5eb76dd3e2a5bb": {
      "model_module": "@jupyter-widgets/base",
      "model_module_version": "2.0.0",
      "model_name": "LayoutModel",
      "state": {}
     },
     "99365f751e6c46f9980a3aacb76f8653": {
      "model_module": "@jupyter-widgets/controls",
      "model_module_version": "2.0.0",
      "model_name": "FloatProgressModel",
      "state": {
       "layout": "IPY_MODEL_07a1f85e8fc745b9ab426ef68ea26b2e",
       "max": 14,
       "style": "IPY_MODEL_22125e1ebab142f290d44e8dfccf4fca",
       "value": 14
      }
     },
     "9a23eced144141d5a86d3beddbaa8f9a": {
      "model_module": "@jupyter-widgets/controls",
      "model_module_version": "2.0.0",
      "model_name": "ProgressStyleModel",
      "state": {
       "description_width": ""
      }
     },
     "9b8d99bb886a41acb621f944f537f56b": {
      "model_module": "@jupyter-widgets/controls",
      "model_module_version": "2.0.0",
      "model_name": "FloatProgressModel",
      "state": {
       "layout": "IPY_MODEL_33334fc92afb4d208a42e8f9bf5e033a",
       "max": 14,
       "style": "IPY_MODEL_a2452982dbe04860bda0d692dc369a07",
       "value": 14
      }
     },
     "9c533640781842888568de7f4c712223": {
      "model_module": "@jupyter-widgets/controls",
      "model_module_version": "2.0.0",
      "model_name": "HTMLModel",
      "state": {
       "layout": "IPY_MODEL_c9163f466ade4733a85d328396ab1519",
       "style": "IPY_MODEL_75deccb4bbb74fac9c7bf2ed0e9e6cd7",
       "value": " [00:00&lt;00:00]"
      }
     },
     "9ea8e74058dc47a6a63f47bd476e2852": {
      "model_module": "@jupyter-widgets/base",
      "model_module_version": "2.0.0",
      "model_name": "LayoutModel",
      "state": {
       "visibility": "hidden"
      }
     },
     "9fee4d0ff1d948fc962b8b796409f274": {
      "model_module": "@jupyter-widgets/base",
      "model_module_version": "2.0.0",
      "model_name": "LayoutModel",
      "state": {}
     },
     "a02560a20af6499b971cdd4c3e39d849": {
      "model_module": "@jupyter-widgets/controls",
      "model_module_version": "2.0.0",
      "model_name": "HTMLModel",
      "state": {
       "layout": "IPY_MODEL_b74646bd4761429682d1ee8859f02969",
       "style": "IPY_MODEL_3f4399acda554382b396a458bf03b8fc",
       "value": " [00:00&lt;00:00]"
      }
     },
     "a0680f5040604d8290f053309c42c8f7": {
      "model_module": "@jupyter-widgets/controls",
      "model_module_version": "2.0.0",
      "model_name": "HTMLStyleModel",
      "state": {
       "description_width": "",
       "font_size": null,
       "text_color": null
      }
     },
     "a0bb932ab2fc4554bd7e0d2519ab935d": {
      "model_module": "@jupyter-widgets/base",
      "model_module_version": "2.0.0",
      "model_name": "LayoutModel",
      "state": {}
     },
     "a1a6e98e417f44459592cfcde82e183e": {
      "model_module": "@jupyter-widgets/base",
      "model_module_version": "2.0.0",
      "model_name": "LayoutModel",
      "state": {
       "visibility": "hidden"
      }
     },
     "a1f3f30ffe7a45ce9dda0f0ee2b17e93": {
      "model_module": "@jupyter-widgets/base",
      "model_module_version": "2.0.0",
      "model_name": "LayoutModel",
      "state": {}
     },
     "a2452982dbe04860bda0d692dc369a07": {
      "model_module": "@jupyter-widgets/controls",
      "model_module_version": "2.0.0",
      "model_name": "ProgressStyleModel",
      "state": {
       "description_width": ""
      }
     },
     "a60fe76298e9495e88b17dc5c46960a9": {
      "model_module": "@jupyter-widgets/base",
      "model_module_version": "2.0.0",
      "model_name": "LayoutModel",
      "state": {
       "visibility": "hidden"
      }
     },
     "a6171a91eeaa43599406b4341eebc164": {
      "model_module": "@jupyter-widgets/controls",
      "model_module_version": "2.0.0",
      "model_name": "HTMLStyleModel",
      "state": {
       "description_width": "",
       "font_size": null,
       "text_color": null
      }
     },
     "a67790740a1c4f36826bb413cb6eb4c7": {
      "model_module": "@jupyter-widgets/base",
      "model_module_version": "2.0.0",
      "model_name": "LayoutModel",
      "state": {}
     },
     "a77e40e86dae45deb6b8a76ac33e0c13": {
      "model_module": "@jupyter-widgets/controls",
      "model_module_version": "2.0.0",
      "model_name": "HTMLModel",
      "state": {
       "layout": "IPY_MODEL_7645b1b073f647f089b90bc1a632e711",
       "style": "IPY_MODEL_3e6e350440a14df1b23d533e5dee122d",
       "value": "Epoch [5/5]: [14/14] 100%"
      }
     },
     "a80b64dbba824fdc885214d0a2091ff9": {
      "model_module": "@jupyter-widgets/base",
      "model_module_version": "2.0.0",
      "model_name": "LayoutModel",
      "state": {}
     },
     "a87df7006ce64e0b814dd18d3117c317": {
      "model_module": "@jupyter-widgets/base",
      "model_module_version": "2.0.0",
      "model_name": "LayoutModel",
      "state": {}
     },
     "aabb70c4ad1242fb91c17154c15c2d0e": {
      "model_module": "@jupyter-widgets/controls",
      "model_module_version": "2.0.0",
      "model_name": "ProgressStyleModel",
      "state": {
       "description_width": ""
      }
     },
     "ad44e59069b7455da60d7185c76f57f3": {
      "model_module": "@jupyter-widgets/controls",
      "model_module_version": "2.0.0",
      "model_name": "HTMLStyleModel",
      "state": {
       "description_width": "",
       "font_size": null,
       "text_color": null
      }
     },
     "ae6ebd845d6a4d32a0d53e9c5a021f2c": {
      "model_module": "@jupyter-widgets/controls",
      "model_module_version": "2.0.0",
      "model_name": "FloatProgressModel",
      "state": {
       "layout": "IPY_MODEL_a87df7006ce64e0b814dd18d3117c317",
       "max": 6,
       "style": "IPY_MODEL_4d2138275aa4417b9b7340e2419556af",
       "value": 6
      }
     },
     "af76a4adc28f4605bc4fde8e02047f6d": {
      "model_module": "@jupyter-widgets/controls",
      "model_module_version": "2.0.0",
      "model_name": "HTMLStyleModel",
      "state": {
       "description_width": "",
       "font_size": null,
       "text_color": null
      }
     },
     "b4d5f06d99034fe2915d31673307ef66": {
      "model_module": "@jupyter-widgets/controls",
      "model_module_version": "2.0.0",
      "model_name": "FloatProgressModel",
      "state": {
       "layout": "IPY_MODEL_a0bb932ab2fc4554bd7e0d2519ab935d",
       "max": 14,
       "style": "IPY_MODEL_edb72569cf1f470199528a66285fc95b",
       "value": 14
      }
     },
     "b74646bd4761429682d1ee8859f02969": {
      "model_module": "@jupyter-widgets/base",
      "model_module_version": "2.0.0",
      "model_name": "LayoutModel",
      "state": {}
     },
     "b9de807d18794f1a91613736c47b29c8": {
      "model_module": "@jupyter-widgets/controls",
      "model_module_version": "2.0.0",
      "model_name": "HTMLStyleModel",
      "state": {
       "description_width": "",
       "font_size": null,
       "text_color": null
      }
     },
     "bd1e301760654530bb64021705ff08b5": {
      "model_module": "@jupyter-widgets/controls",
      "model_module_version": "2.0.0",
      "model_name": "HTMLModel",
      "state": {
       "layout": "IPY_MODEL_968e00193cba4c9cbf237e6e0478f9ac",
       "style": "IPY_MODEL_4e5fec310ab045cb81e0cd59eeee0860",
       "value": " [00:06&lt;00:00]"
      }
     },
     "c1cc5929d0f549b182020f34da6b2765": {
      "model_module": "@jupyter-widgets/controls",
      "model_module_version": "2.0.0",
      "model_name": "HTMLModel",
      "state": {
       "layout": "IPY_MODEL_ce5e27f153a9495b8fc0e517a58d008e",
       "style": "IPY_MODEL_785106c5abe94c93a98bd8d89b39b2f7",
       "value": " [00:04&lt;00:00]"
      }
     },
     "c1e7fb99660d46abb3036e9641260866": {
      "model_module": "@jupyter-widgets/base",
      "model_module_version": "2.0.0",
      "model_name": "LayoutModel",
      "state": {}
     },
     "c2c87ca6c5734f8d9d67f83ce1ee0c15": {
      "model_module": "@jupyter-widgets/controls",
      "model_module_version": "2.0.0",
      "model_name": "HTMLModel",
      "state": {
       "layout": "IPY_MODEL_8fe9201f43e7433c9cd4f5441edf48f7",
       "style": "IPY_MODEL_f9a9133045054cf78dd6e1465e83ca82",
       "value": "Epoch [3/5]: [14/14] 100%"
      }
     },
     "c5d2a98bfe0546228adadd2c75234cab": {
      "model_module": "@jupyter-widgets/controls",
      "model_module_version": "2.0.0",
      "model_name": "HTMLModel",
      "state": {
       "layout": "IPY_MODEL_4bdbd513ca984b508052d8fac0d2416a",
       "style": "IPY_MODEL_5418940f9d8347dcaaaa70ceaf9c5b46",
       "value": " [00:00&lt;00:00]"
      }
     },
     "c6740194550541149c3781fc06e1b1d7": {
      "model_module": "@jupyter-widgets/controls",
      "model_module_version": "2.0.0",
      "model_name": "HTMLModel",
      "state": {
       "layout": "IPY_MODEL_24f0f6fd0c9f4193ba0414207ce34098",
       "style": "IPY_MODEL_dd1fcbb5a01044f9a9b2cd03390df7c6",
       "value": " [00:00&lt;00:00]"
      }
     },
     "c8ffeb23d54d428da42837fb242dedc0": {
      "model_module": "@jupyter-widgets/controls",
      "model_module_version": "2.0.0",
      "model_name": "HTMLStyleModel",
      "state": {
       "description_width": "",
       "font_size": null,
       "text_color": null
      }
     },
     "c9163f466ade4733a85d328396ab1519": {
      "model_module": "@jupyter-widgets/base",
      "model_module_version": "2.0.0",
      "model_name": "LayoutModel",
      "state": {}
     },
     "cd42d02633224c5586c72fd8d590f3fd": {
      "model_module": "@jupyter-widgets/base",
      "model_module_version": "2.0.0",
      "model_name": "LayoutModel",
      "state": {
       "visibility": "hidden"
      }
     },
     "ce5e27f153a9495b8fc0e517a58d008e": {
      "model_module": "@jupyter-widgets/base",
      "model_module_version": "2.0.0",
      "model_name": "LayoutModel",
      "state": {}
     },
     "ce73c5dc1b5943ebbd91db86c70d9c3d": {
      "model_module": "@jupyter-widgets/controls",
      "model_module_version": "2.0.0",
      "model_name": "HTMLStyleModel",
      "state": {
       "description_width": "",
       "font_size": null,
       "text_color": null
      }
     },
     "cfd1118df4e34f25a77428d955f37f6d": {
      "model_module": "@jupyter-widgets/controls",
      "model_module_version": "2.0.0",
      "model_name": "FloatProgressModel",
      "state": {
       "layout": "IPY_MODEL_c1e7fb99660d46abb3036e9641260866",
       "max": 14,
       "style": "IPY_MODEL_67e39d04be3142008179741d225a0f62",
       "value": 14
      }
     },
     "d0f28221b35643dd806e17e62bff4e58": {
      "model_module": "@jupyter-widgets/base",
      "model_module_version": "2.0.0",
      "model_name": "LayoutModel",
      "state": {
       "visibility": "hidden"
      }
     },
     "d1f725362c254457bc9956eb03912b55": {
      "model_module": "@jupyter-widgets/base",
      "model_module_version": "2.0.0",
      "model_name": "LayoutModel",
      "state": {}
     },
     "d200b71b3df7482d9f8b013fb98c6ba7": {
      "model_module": "@jupyter-widgets/controls",
      "model_module_version": "2.0.0",
      "model_name": "FloatProgressModel",
      "state": {
       "layout": "IPY_MODEL_2392fc44a4e049bbb45bd97c350d82d4",
       "max": 14,
       "style": "IPY_MODEL_8eae648bfcce46b0926c88542117383a",
       "value": 14
      }
     },
     "d346b10e7fdf423084905789d1e79b40": {
      "model_module": "@jupyter-widgets/controls",
      "model_module_version": "2.0.0",
      "model_name": "HTMLStyleModel",
      "state": {
       "description_width": "",
       "font_size": null,
       "text_color": null
      }
     },
     "d3d0eafccaee41938209cbd697625943": {
      "model_module": "@jupyter-widgets/base",
      "model_module_version": "2.0.0",
      "model_name": "LayoutModel",
      "state": {
       "visibility": "hidden"
      }
     },
     "d41157fbf0f9411dbe4bb1642c6a119e": {
      "model_module": "@jupyter-widgets/controls",
      "model_module_version": "2.0.0",
      "model_name": "HTMLStyleModel",
      "state": {
       "description_width": "",
       "font_size": null,
       "text_color": null
      }
     },
     "d49c848464334ff0b5a7f318088ab724": {
      "model_module": "@jupyter-widgets/controls",
      "model_module_version": "2.0.0",
      "model_name": "HTMLModel",
      "state": {
       "layout": "IPY_MODEL_83c669aad5694c388777d8197cdf1c67",
       "style": "IPY_MODEL_d346b10e7fdf423084905789d1e79b40",
       "value": " [00:10&lt;00:00]"
      }
     },
     "d563f26c88824fa2af6b2ce4461a2db7": {
      "model_module": "@jupyter-widgets/controls",
      "model_module_version": "2.0.0",
      "model_name": "HTMLStyleModel",
      "state": {
       "description_width": "",
       "font_size": null,
       "text_color": null
      }
     },
     "d9fb3af7f7cd4063bdc759e43273fef5": {
      "model_module": "@jupyter-widgets/base",
      "model_module_version": "2.0.0",
      "model_name": "LayoutModel",
      "state": {}
     },
     "da28da09605545978c81cb3aadf75416": {
      "model_module": "@jupyter-widgets/controls",
      "model_module_version": "2.0.0",
      "model_name": "HTMLStyleModel",
      "state": {
       "description_width": "",
       "font_size": null,
       "text_color": null
      }
     },
     "dcfc6295cd314a2dae883f97e63c1b7b": {
      "model_module": "@jupyter-widgets/controls",
      "model_module_version": "2.0.0",
      "model_name": "FloatProgressModel",
      "state": {
       "layout": "IPY_MODEL_039a247eda5c4245bd6d1449572aafe7",
       "max": 6,
       "style": "IPY_MODEL_3051e6808e354fa7a3176c6c6e9b900f",
       "value": 6
      }
     },
     "dd1fcbb5a01044f9a9b2cd03390df7c6": {
      "model_module": "@jupyter-widgets/controls",
      "model_module_version": "2.0.0",
      "model_name": "HTMLStyleModel",
      "state": {
       "description_width": "",
       "font_size": null,
       "text_color": null
      }
     },
     "dd9e1c73274446dabf0f72461a051dec": {
      "model_module": "@jupyter-widgets/controls",
      "model_module_version": "2.0.0",
      "model_name": "HTMLStyleModel",
      "state": {
       "description_width": "",
       "font_size": null,
       "text_color": null
      }
     },
     "ddbb638c5022447c9abb247c25daa364": {
      "model_module": "@jupyter-widgets/base",
      "model_module_version": "2.0.0",
      "model_name": "LayoutModel",
      "state": {
       "visibility": "hidden"
      }
     },
     "df18aa662d03416c88a912b9ec61af3b": {
      "model_module": "@jupyter-widgets/controls",
      "model_module_version": "2.0.0",
      "model_name": "FloatProgressModel",
      "state": {
       "layout": "IPY_MODEL_9427bd41f6554292ad9e0be1b792d051",
       "max": 14,
       "style": "IPY_MODEL_28f6d477a239493da29451e78d75a577",
       "value": 14
      }
     },
     "e09411226080421db6e765b517df48ce": {
      "model_module": "@jupyter-widgets/controls",
      "model_module_version": "2.0.0",
      "model_name": "HTMLModel",
      "state": {
       "layout": "IPY_MODEL_98d351930b9849beb9245b62e1990920",
       "style": "IPY_MODEL_92c97c4b61bc4317959d243598274451",
       "value": " [00:12&lt;00:00]"
      }
     },
     "e1f030a78f70450f8b67e5e0b459f97f": {
      "model_module": "@jupyter-widgets/base",
      "model_module_version": "2.0.0",
      "model_name": "LayoutModel",
      "state": {}
     },
     "e34d6e7964b54e119de7721691235294": {
      "model_module": "@jupyter-widgets/controls",
      "model_module_version": "2.0.0",
      "model_name": "HTMLModel",
      "state": {
       "layout": "IPY_MODEL_e64fbb644f9c4070a144b896cfad6fc0",
       "style": "IPY_MODEL_b9de807d18794f1a91613736c47b29c8",
       "value": " [00:13&lt;00:00]"
      }
     },
     "e64fbb644f9c4070a144b896cfad6fc0": {
      "model_module": "@jupyter-widgets/base",
      "model_module_version": "2.0.0",
      "model_name": "LayoutModel",
      "state": {}
     },
     "e761b434c41f4fb783e70a03241e0e95": {
      "model_module": "@jupyter-widgets/controls",
      "model_module_version": "2.0.0",
      "model_name": "HTMLModel",
      "state": {
       "layout": "IPY_MODEL_2a0f2a4b671541a88c2e5b8024e76813",
       "style": "IPY_MODEL_af76a4adc28f4605bc4fde8e02047f6d",
       "value": " [00:03&lt;00:00]"
      }
     },
     "e89f9a1f3c0b463c8dfeccc456282e97": {
      "model_module": "@jupyter-widgets/controls",
      "model_module_version": "2.0.0",
      "model_name": "HTMLStyleModel",
      "state": {
       "description_width": "",
       "font_size": null,
       "text_color": null
      }
     },
     "ea94c70fecad412a8f3014935497b9a8": {
      "model_module": "@jupyter-widgets/controls",
      "model_module_version": "2.0.0",
      "model_name": "FloatProgressModel",
      "state": {
       "layout": "IPY_MODEL_0233f45107e34c70a6794201e6222ea4",
       "max": 6,
       "style": "IPY_MODEL_4728b2ad25044b318b34f544c5bb116a",
       "value": 6
      }
     },
     "eb5abb3a8e1b47be94f84196c6537e47": {
      "model_module": "@jupyter-widgets/controls",
      "model_module_version": "2.0.0",
      "model_name": "HTMLModel",
      "state": {
       "layout": "IPY_MODEL_3d492c7683f945849ebb2110434aca8a",
       "style": "IPY_MODEL_a0680f5040604d8290f053309c42c8f7",
       "value": "Epoch [5/5]: [13/14]  93%"
      }
     },
     "edb72569cf1f470199528a66285fc95b": {
      "model_module": "@jupyter-widgets/controls",
      "model_module_version": "2.0.0",
      "model_name": "ProgressStyleModel",
      "state": {
       "description_width": ""
      }
     },
     "ee722ba3de9f44b59ba090d4eb08725d": {
      "model_module": "@jupyter-widgets/base",
      "model_module_version": "2.0.0",
      "model_name": "LayoutModel",
      "state": {
       "visibility": "hidden"
      }
     },
     "f38c61a919a44e2c924b15741eaf8552": {
      "model_module": "@jupyter-widgets/base",
      "model_module_version": "2.0.0",
      "model_name": "LayoutModel",
      "state": {}
     },
     "f4df87818174451a8660211ef1b49d9b": {
      "model_module": "@jupyter-widgets/controls",
      "model_module_version": "2.0.0",
      "model_name": "HTMLModel",
      "state": {
       "layout": "IPY_MODEL_2d5955f19c6a4eb3945a97b9472b5206",
       "style": "IPY_MODEL_813cbf35f50148b7afd420b69c5a3821",
       "value": "Epoch [2/5]: [14/14] 100%"
      }
     },
     "f7fb0c9ab8f8473581fb3b7e3165a820": {
      "model_module": "@jupyter-widgets/base",
      "model_module_version": "2.0.0",
      "model_name": "LayoutModel",
      "state": {}
     },
     "f8078ee87301431f95cbb6cbe164f1e6": {
      "model_module": "@jupyter-widgets/controls",
      "model_module_version": "2.0.0",
      "model_name": "FloatProgressModel",
      "state": {
       "layout": "IPY_MODEL_267a48fc695c4c1da36a4b564df305cc",
       "max": 14,
       "style": "IPY_MODEL_44defc7b3e3543a6b63ef2b6dc281781",
       "value": 14
      }
     },
     "f9a9133045054cf78dd6e1465e83ca82": {
      "model_module": "@jupyter-widgets/controls",
      "model_module_version": "2.0.0",
      "model_name": "HTMLStyleModel",
      "state": {
       "description_width": "",
       "font_size": null,
       "text_color": null
      }
     },
     "f9ffcf7bc345423db52f44d1e449170e": {
      "model_module": "@jupyter-widgets/controls",
      "model_module_version": "2.0.0",
      "model_name": "HTMLModel",
      "state": {
       "layout": "IPY_MODEL_80d2adceeb054c9e981dde1249581f53",
       "style": "IPY_MODEL_ce73c5dc1b5943ebbd91db86c70d9c3d",
       "value": "Epoch [4/5]: [14/14] 100%"
      }
     },
     "fa7220f25ed8480f9e2583fef163526d": {
      "model_module": "@jupyter-widgets/controls",
      "model_module_version": "2.0.0",
      "model_name": "ProgressStyleModel",
      "state": {
       "description_width": ""
      }
     },
     "fb0bed34169a4ca6b45d7d6c5d3e2ec1": {
      "model_module": "@jupyter-widgets/controls",
      "model_module_version": "2.0.0",
      "model_name": "HTMLModel",
      "state": {
       "layout": "IPY_MODEL_e1f030a78f70450f8b67e5e0b459f97f",
       "style": "IPY_MODEL_96d29022da0f460bae482755413a1d6c",
       "value": " [00:00&lt;00:00]"
      }
     },
     "fe99725c650f4e65819a8227750ced79": {
      "model_module": "@jupyter-widgets/base",
      "model_module_version": "2.0.0",
      "model_name": "LayoutModel",
      "state": {}
     },
     "ffa0fb4c865045c893cefa97daa5bfce": {
      "model_module": "@jupyter-widgets/base",
      "model_module_version": "2.0.0",
      "model_name": "LayoutModel",
      "state": {
       "visibility": "hidden"
      }
     },
     "ffac5b13e6fd4b00bd509e4dd63d9d4d": {
      "model_module": "@jupyter-widgets/controls",
      "model_module_version": "2.0.0",
      "model_name": "HTMLModel",
      "state": {
       "layout": "IPY_MODEL_940440965fa142b696f837ddd36210c1",
       "style": "IPY_MODEL_7971829b9ac7432cbc8522fcc2713fe0",
       "value": " [00:03&lt;00:00]"
      }
     }
    },
    "version_major": 2,
    "version_minor": 0
   }
  }
 },
 "nbformat": 4,
 "nbformat_minor": 4
}
